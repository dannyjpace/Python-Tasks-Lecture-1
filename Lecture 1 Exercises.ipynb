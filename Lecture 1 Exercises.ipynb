{
 "cells": [
  {
   "cell_type": "code",
   "execution_count": 1,
   "id": "d7e49d08-1290-47ad-97d1-b40ba8aeb312",
   "metadata": {},
   "outputs": [
    {
     "name": "stdout",
     "output_type": "stream",
     "text": [
      "Hello, Python!\n"
     ]
    }
   ],
   "source": [
    "#Exercise 1 code\n",
    "\n",
    "print(\"Hello, Python!\")"
   ]
  },
  {
   "cell_type": "code",
   "execution_count": 3,
   "id": "314f95ad-ec26-4e17-87cd-5eb20f615e42",
   "metadata": {},
   "outputs": [
    {
     "name": "stdout",
     "output_type": "stream",
     "text": [
      "Sum: 22\n",
      "Difference: -2\n",
      "Product: 120\n",
      "Quotient: 0.8333333333333334\n"
     ]
    }
   ],
   "source": [
    "#Exercise 2 code\n",
    "\n",
    "a = 10\n",
    "b = 12\n",
    "\n",
    "print(\"Sum:\", a + b)\n",
    "print(\"Difference:\", a - b)\n",
    "print(\"Product:\", a * b)\n",
    "print(\"Quotient:\", a / b)"
   ]
  },
  {
   "cell_type": "code",
   "execution_count": 7,
   "id": "2c2684ad-7d85-4414-b74f-19e1fd11b2e2",
   "metadata": {},
   "outputs": [
    {
     "name": "stdout",
     "output_type": "stream",
     "text": [
      "Hello, Daniel!\n"
     ]
    }
   ],
   "source": [
    "#Exercise 3 code\n",
    "\n",
    "name = \"Daniel\"\n",
    "print(f\"Hello, {name}!\")"
   ]
  },
  {
   "cell_type": "code",
   "execution_count": 9,
   "id": "139a2a43-b3ca-42e4-8938-c617de4abfe1",
   "metadata": {},
   "outputs": [
    {
     "name": "stdout",
     "output_type": "stream",
     "text": [
      "List of universities: ['Esade', 'Bocconi', 'HEC Paris', 'LSE', 'LBS']\n",
      "First university: Esade\n",
      "Last university: LBS\n"
     ]
    }
   ],
   "source": [
    "#Exercise 4 code\n",
    "\n",
    "universities = [\"Esade\", \"Bocconi\", \"HEC Paris\", \"LSE\", \"LBS\"]\n",
    "\n",
    "print(\"List of universities:\", universities)\n",
    "\n",
    "print(\"First university:\", universities[0])\n",
    "\n",
    "print(\"Last university:\", universities[-1])"
   ]
  },
  {
   "cell_type": "code",
   "execution_count": 11,
   "id": "e9a7e599-2403-4fbc-b63a-3ae3c81fc4b0",
   "metadata": {},
   "outputs": [
    {
     "name": "stdout",
     "output_type": "stream",
     "text": [
      "name: Daniel Pace\n",
      "age: 21\n",
      "grade: 4.0\n"
     ]
    }
   ],
   "source": [
    "#Exercise 5 code\n",
    "\n",
    "student = {\n",
    "    \"name\": \"Daniel Pace\",\n",
    "    \"age\": 21,\n",
    "    \"grade\": \"4.0\"\n",
    "}\n",
    "\n",
    "for key, value in student.items():\n",
    "    print(f\"{key}: {value}\")"
   ]
  },
  {
   "cell_type": "code",
   "execution_count": 15,
   "id": "8e0ce2cb-93fa-4149-93d7-c8c325203542",
   "metadata": {},
   "outputs": [
    {
     "name": "stdout",
     "output_type": "stream",
     "text": [
      "Coordinates: (20, 15)\n",
      "X coordinate: 20\n",
      "Y coordinate: 15\n"
     ]
    }
   ],
   "source": [
    "#Exercise 6 code\n",
    "\n",
    "coordinates = (20, 15)\n",
    "\n",
    "print(\"Coordinates:\", coordinates)\n",
    "\n",
    "print(\"X coordinate:\", coordinates[0])\n",
    "print(\"Y coordinate:\", coordinates[1])"
   ]
  },
  {
   "cell_type": "code",
   "execution_count": 19,
   "id": "9c37e864-65c7-4cb0-b0f0-24b01639ddf9",
   "metadata": {},
   "outputs": [
    {
     "name": "stdout",
     "output_type": "stream",
     "text": [
      "Colors set after adding a duplicate and a new color: {'yellow', 'green', 'blue', 'red'}\n",
      "Colors set after removing 'green': {'yellow', 'blue', 'red'}\n",
      "Merged colors and light_colors set: {'yellow', 'pink', 'orange', 'blue', 'red'}\n"
     ]
    }
   ],
   "source": [
    "#Exercise 7 code\n",
    "\n",
    "colors = {\"red\", \"green\", \"blue\"}\n",
    "\n",
    "colors.add(\"yellow\")\n",
    "colors.add(\"red\")\n",
    "\n",
    "print(\"Colors set after adding a duplicate and a new color:\", colors)\n",
    "\n",
    "colors.remove(\"green\")\n",
    "\n",
    "print(\"Colors set after removing 'green':\", colors)\n",
    "\n",
    "light_colors = {\"orange\", \"pink\", \"yellow\"}\n",
    "\n",
    "merged_colors = colors.union(light_colors)\n",
    "\n",
    "print(\"Merged colors and light_colors set:\", merged_colors)"
   ]
  },
  {
   "cell_type": "code",
   "execution_count": 27,
   "id": "22a3ed26-638d-45ad-a6fb-5ef96a7cc57c",
   "metadata": {},
   "outputs": [
    {
     "name": "stdin",
     "output_type": "stream",
     "text": [
      "Enter a number:  46\n"
     ]
    },
    {
     "name": "stdout",
     "output_type": "stream",
     "text": [
      "The number is positive.\n"
     ]
    }
   ],
   "source": [
    "#Exercise 8 code\n",
    "\n",
    "number = float(input(\"Enter a number: \"))\n",
    "\n",
    "if number > 0:\n",
    "    print(\"The number is positive.\")\n",
    "elif number < 0:\n",
    "    print(\"The number is negative.\")\n",
    "else:\n",
    "    print(\"The number is zero.\")"
   ]
  },
  {
   "cell_type": "code",
   "execution_count": 29,
   "id": "fa8b8c31-56b0-42d9-ab2a-4a19deac79ee",
   "metadata": {},
   "outputs": [
    {
     "name": "stdout",
     "output_type": "stream",
     "text": [
      "1\n",
      "2\n",
      "3\n",
      "4\n",
      "5\n"
     ]
    }
   ],
   "source": [
    "#Exercise 9 code\n",
    "\n",
    "numbers = [1, 2, 3, 4, 5]\n",
    "\n",
    "for number in numbers:\n",
    "    print(number)"
   ]
  },
  {
   "cell_type": "code",
   "execution_count": 31,
   "id": "7d02e352-4512-4785-a313-6b15cc4d2570",
   "metadata": {},
   "outputs": [
    {
     "name": "stdout",
     "output_type": "stream",
     "text": [
      "1\n",
      "2\n",
      "3\n",
      "4\n",
      "5\n"
     ]
    }
   ],
   "source": [
    "# Exercise 10 code\n",
    "\n",
    "number = 1\n",
    "\n",
    "while number <= 5:\n",
    "    print(number)\n",
    "    number += 1"
   ]
  },
  {
   "cell_type": "code",
   "execution_count": 33,
   "id": "f735ea6a-6da7-413d-831c-8a634f9f8443",
   "metadata": {},
   "outputs": [
    {
     "name": "stdin",
     "output_type": "stream",
     "text": [
      "Enter a grade (A, B, C, D, F):  B\n"
     ]
    },
    {
     "name": "stdout",
     "output_type": "stream",
     "text": [
      "Good job!\n"
     ]
    }
   ],
   "source": [
    "#Exercise 11 code\n",
    "\n",
    "grade = input(\"Enter a grade (A, B, C, D, F): \").upper()\n",
    "\n",
    "match grade:\n",
    "    case \"A\":\n",
    "        print(\"Excellent!\")\n",
    "    case \"B\":\n",
    "        print(\"Good job!\")\n",
    "    case \"C\":\n",
    "        print(\"Fair.\")\n",
    "    case \"D\":\n",
    "        print(\"Needs improvement.\")\n",
    "    case \"F\":\n",
    "        print(\"Failing.\")\n",
    "    case _:\n",
    "        print(\"Invalid grade entered.\")"
   ]
  },
  {
   "cell_type": "code",
   "execution_count": 35,
   "id": "453bfb5b-2fd2-4233-bc97-2826db328eb6",
   "metadata": {},
   "outputs": [
    {
     "name": "stdout",
     "output_type": "stream",
     "text": [
      "Hello, Daniel!\n"
     ]
    }
   ],
   "source": [
    "#Exercise 12 code\n",
    "\n",
    "def greet(name):\n",
    "    print(f\"Hello, {name}!\")\n",
    "\n",
    "greet(\"Daniel\")"
   ]
  },
  {
   "cell_type": "code",
   "execution_count": 37,
   "id": "a7cf7745-6703-4d6f-9495-088156e20cf2",
   "metadata": {},
   "outputs": [
    {
     "name": "stdout",
     "output_type": "stream",
     "text": [
      "4\n",
      "25\n",
      "100\n"
     ]
    }
   ],
   "source": [
    "#Exercise 13 code\n",
    "\n",
    "def square(number):\n",
    "    return number * number\n",
    "\n",
    "print(square(2))\n",
    "print(square(5))\n",
    "print(square(10))"
   ]
  },
  {
   "cell_type": "code",
   "execution_count": 39,
   "id": "7f3e1aa3-a544-440c-8e90-e34325c7fcdb",
   "metadata": {},
   "outputs": [
    {
     "name": "stdout",
     "output_type": "stream",
     "text": [
      "15\n",
      "5\n"
     ]
    }
   ],
   "source": [
    "#Exercise 14 code\n",
    "\n",
    "def multiply(a, b=1):\n",
    "    return a * b\n",
    "\n",
    "print(multiply(5, 3))\n",
    "\n",
    "print(multiply(5))"
   ]
  },
  {
   "cell_type": "code",
   "execution_count": 41,
   "id": "bacfc6f6-e585-4916-8efd-4cce21074259",
   "metadata": {},
   "outputs": [
    {
     "name": "stdout",
     "output_type": "stream",
     "text": [
      "[1, 4, 9, 16, 25, 36, 49, 64, 81, 100]\n"
     ]
    }
   ],
   "source": [
    "#Exercise 15 code\n",
    "\n",
    "numbers = [1, 2, 3, 4, 5, 6, 7, 8, 9, 10]\n",
    "\n",
    "squares = [number ** 2 for number in numbers]\n",
    "\n",
    "print(squares)"
   ]
  },
  {
   "cell_type": "code",
   "execution_count": 43,
   "id": "5de26a92-42e4-408b-aa58-dbf3836a8ac8",
   "metadata": {},
   "outputs": [
    {
     "name": "stdout",
     "output_type": "stream",
     "text": [
      "Alice's average grade: 87.67\n",
      "Bob's average grade: 79.67\n",
      "Charlie's average grade: 92.67\n"
     ]
    }
   ],
   "source": [
    "#Exercise 16 code\n",
    "\n",
    "students_grades = {\n",
    "    \"James\": [85, 90, 88],\n",
    "    \"Danny\": [78, 82, 79],\n",
    "    \"Jim\": [92, 95, 91]\n",
    "}\n",
    "\n",
    "def print_average_grades(grades_dict):\n",
    "    for student, grades in grades_dict.items():\n",
    "        average = sum(grades) / len(grades)\n",
    "        print(f\"{student}'s average grade: {average:.2f}\")\n",
    "\n",
    "print_average_grades(students_grades)"
   ]
  },
  {
   "cell_type": "code",
   "execution_count": 2,
   "id": "d7aa81ec-58c7-4849-ac7b-6dec204fe0b9",
   "metadata": {},
   "outputs": [
    {
     "name": "stdin",
     "output_type": "stream",
     "text": [
      "Enter the first number:  7\n",
      "Enter the second number:  6\n",
      "Enter the operator (+, -, *, /):  +\n"
     ]
    },
    {
     "name": "stdout",
     "output_type": "stream",
     "text": [
      "Result: 13.0\n"
     ]
    }
   ],
   "source": [
    "#Exercise 17 code\n",
    "\n",
    "def calculate(num1, num2, operator):\n",
    "    if operator == \"+\":\n",
    "        return num1 + num2\n",
    "    elif operator == \"-\":\n",
    "        return num1 - num2\n",
    "    elif operator == \"*\":\n",
    "        return num1 * num2\n",
    "    elif operator == \"/\":\n",
    "        if num2 != 0:\n",
    "            return num1 / num2\n",
    "        else:\n",
    "            return \"Error: Division by zero\"\n",
    "    else:\n",
    "        return \"Error: Invalid operator\"\n",
    "\n",
    "num1 = float(input(\"Enter the first number: \"))\n",
    "num2 = float(input(\"Enter the second number: \"))\n",
    "operator = input(\"Enter the operator (+, -, *, /): \")\n",
    "\n",
    "result = calculate(num1, num2, operator)\n",
    "print(\"Result:\", result)"
   ]
  },
  {
   "cell_type": "code",
   "execution_count": null,
   "id": "21ffb3c7-354e-4d52-b970-839e8daac288",
   "metadata": {},
   "outputs": [],
   "source": []
  }
 ],
 "metadata": {
  "kernelspec": {
   "display_name": "Python 3 (ipykernel)",
   "language": "python",
   "name": "python3"
  },
  "language_info": {
   "codemirror_mode": {
    "name": "ipython",
    "version": 3
   },
   "file_extension": ".py",
   "mimetype": "text/x-python",
   "name": "python",
   "nbconvert_exporter": "python",
   "pygments_lexer": "ipython3",
   "version": "3.12.4"
  }
 },
 "nbformat": 4,
 "nbformat_minor": 5
}
